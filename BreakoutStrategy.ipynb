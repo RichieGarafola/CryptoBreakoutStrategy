{
 "cells": [
  {
   "cell_type": "code",
   "execution_count": 1,
   "id": "21163437-f789-4c1d-9fa3-77e719ca9560",
   "metadata": {},
   "outputs": [],
   "source": [
    "import yfinance as yf\n",
    "import pandas as pd\n",
    "import matplotlib.pyplot as plt"
   ]
  },
  {
   "cell_type": "code",
   "execution_count": 2,
   "id": "d8dc387b-827c-4c32-91e6-80586f0d076c",
   "metadata": {},
   "outputs": [],
   "source": [
    "# Define the cryptocurrency and timeframe\n",
    "crypto_symbol = \"BTC-USD\"\n",
    "start_date = \"2010-01-01\"\n",
    "end_date = \"2024-01-01\""
   ]
  },
  {
   "cell_type": "code",
   "execution_count": 3,
   "id": "6e292aa9-cf75-40c6-96ff-deff0eda5a76",
   "metadata": {},
   "outputs": [
    {
     "name": "stdout",
     "output_type": "stream",
     "text": [
      "[*********************100%***********************]  1 of 1 completed\n"
     ]
    }
   ],
   "source": [
    "# Download historical price data\n",
    "crypto_data = yf.download(crypto_symbol, start=start_date, end=end_date)"
   ]
  },
  {
   "cell_type": "code",
   "execution_count": 4,
   "id": "0d1405d0-da75-4546-86ff-2106eca616a7",
   "metadata": {},
   "outputs": [],
   "source": [
    "# Calculate a simple moving average (SMA) for a specified period\n",
    "sma_period = 200\n",
    "crypto_data['SMA'] = crypto_data['Close'].rolling(window=sma_period).mean()"
   ]
  },
  {
   "cell_type": "code",
   "execution_count": 5,
   "id": "236b769b-0c7d-4e70-9160-cb42a7bf103b",
   "metadata": {},
   "outputs": [],
   "source": [
    "# Define the breakout threshold (e.g., 2% above the SMA)\n",
    "breakout_threshold = 0.02"
   ]
  },
  {
   "cell_type": "code",
   "execution_count": 6,
   "id": "d6cd5946-558b-4f7a-b1b9-2f8ebfe18b04",
   "metadata": {},
   "outputs": [],
   "source": [
    "# Initialize variables to track the trade\n",
    "in_trade = False\n",
    "entry_price = 0\n",
    "stop_loss = 0"
   ]
  },
  {
   "cell_type": "code",
   "execution_count": 7,
   "id": "cea035d4-11ba-4e47-bb72-e7d3ac96fc04",
   "metadata": {},
   "outputs": [],
   "source": [
    "# Create an empty DataFrame to store trade information\n",
    "trade_history = pd.DataFrame(columns=['Date', 'Action', 'Price'])"
   ]
  },
  {
   "cell_type": "code",
   "execution_count": 8,
   "id": "3e1dce17-f8eb-40e3-8396-3bc3aa299ff1",
   "metadata": {},
   "outputs": [],
   "source": [
    "# Create lists to store entry and exit points\n",
    "entry_points = []\n",
    "exit_points = []"
   ]
  },
  {
   "cell_type": "code",
   "execution_count": 9,
   "id": "a3aa3758-49fb-4dcf-9d55-a2ac52148683",
   "metadata": {},
   "outputs": [
    {
     "data": {
      "text/html": [
       "<div>\n",
       "<style scoped>\n",
       "    .dataframe tbody tr th:only-of-type {\n",
       "        vertical-align: middle;\n",
       "    }\n",
       "\n",
       "    .dataframe tbody tr th {\n",
       "        vertical-align: top;\n",
       "    }\n",
       "\n",
       "    .dataframe thead th {\n",
       "        text-align: right;\n",
       "    }\n",
       "</style>\n",
       "<table border=\"1\" class=\"dataframe\">\n",
       "  <thead>\n",
       "    <tr style=\"text-align: right;\">\n",
       "      <th></th>\n",
       "      <th>Date</th>\n",
       "      <th>Action</th>\n",
       "      <th>Price</th>\n",
       "    </tr>\n",
       "  </thead>\n",
       "  <tbody>\n",
       "    <tr>\n",
       "      <th>0</th>\n",
       "      <td>2015-06-30</td>\n",
       "      <td>Buy</td>\n",
       "      <td>263.071991</td>\n",
       "    </tr>\n",
       "    <tr>\n",
       "      <th>1</th>\n",
       "      <td>2015-08-18</td>\n",
       "      <td>Sell</td>\n",
       "      <td>211.078995</td>\n",
       "    </tr>\n",
       "    <tr>\n",
       "      <th>2</th>\n",
       "      <td>2015-10-14</td>\n",
       "      <td>Buy</td>\n",
       "      <td>251.988998</td>\n",
       "    </tr>\n",
       "    <tr>\n",
       "      <th>3</th>\n",
       "      <td>2018-02-05</td>\n",
       "      <td>Sell</td>\n",
       "      <td>6955.270020</td>\n",
       "    </tr>\n",
       "    <tr>\n",
       "      <th>4</th>\n",
       "      <td>2018-02-08</td>\n",
       "      <td>Buy</td>\n",
       "      <td>8265.589844</td>\n",
       "    </tr>\n",
       "    <tr>\n",
       "      <th>5</th>\n",
       "      <td>2018-03-12</td>\n",
       "      <td>Sell</td>\n",
       "      <td>9205.120117</td>\n",
       "    </tr>\n",
       "    <tr>\n",
       "      <th>6</th>\n",
       "      <td>2019-04-02</td>\n",
       "      <td>Buy</td>\n",
       "      <td>4879.877930</td>\n",
       "    </tr>\n",
       "    <tr>\n",
       "      <th>7</th>\n",
       "      <td>2019-09-25</td>\n",
       "      <td>Sell</td>\n",
       "      <td>8486.993164</td>\n",
       "    </tr>\n",
       "    <tr>\n",
       "      <th>8</th>\n",
       "      <td>2019-10-26</td>\n",
       "      <td>Buy</td>\n",
       "      <td>9244.972656</td>\n",
       "    </tr>\n",
       "    <tr>\n",
       "      <th>9</th>\n",
       "      <td>2019-11-11</td>\n",
       "      <td>Sell</td>\n",
       "      <td>8757.788086</td>\n",
       "    </tr>\n",
       "    <tr>\n",
       "      <th>10</th>\n",
       "      <td>2020-01-28</td>\n",
       "      <td>Buy</td>\n",
       "      <td>9358.589844</td>\n",
       "    </tr>\n",
       "    <tr>\n",
       "      <th>11</th>\n",
       "      <td>2020-02-26</td>\n",
       "      <td>Sell</td>\n",
       "      <td>8820.522461</td>\n",
       "    </tr>\n",
       "    <tr>\n",
       "      <th>12</th>\n",
       "      <td>2020-03-05</td>\n",
       "      <td>Buy</td>\n",
       "      <td>9078.762695</td>\n",
       "    </tr>\n",
       "    <tr>\n",
       "      <th>13</th>\n",
       "      <td>2020-03-08</td>\n",
       "      <td>Sell</td>\n",
       "      <td>8108.116211</td>\n",
       "    </tr>\n",
       "    <tr>\n",
       "      <th>14</th>\n",
       "      <td>2020-04-29</td>\n",
       "      <td>Buy</td>\n",
       "      <td>8801.038086</td>\n",
       "    </tr>\n",
       "    <tr>\n",
       "      <th>15</th>\n",
       "      <td>2021-05-19</td>\n",
       "      <td>Sell</td>\n",
       "      <td>37002.441406</td>\n",
       "    </tr>\n",
       "    <tr>\n",
       "      <th>16</th>\n",
       "      <td>2021-05-20</td>\n",
       "      <td>Buy</td>\n",
       "      <td>40782.738281</td>\n",
       "    </tr>\n",
       "    <tr>\n",
       "      <th>17</th>\n",
       "      <td>2021-05-21</td>\n",
       "      <td>Sell</td>\n",
       "      <td>37304.691406</td>\n",
       "    </tr>\n",
       "    <tr>\n",
       "      <th>18</th>\n",
       "      <td>2021-08-09</td>\n",
       "      <td>Buy</td>\n",
       "      <td>46365.402344</td>\n",
       "    </tr>\n",
       "    <tr>\n",
       "      <th>19</th>\n",
       "      <td>2021-09-20</td>\n",
       "      <td>Sell</td>\n",
       "      <td>42843.800781</td>\n",
       "    </tr>\n",
       "    <tr>\n",
       "      <th>20</th>\n",
       "      <td>2021-10-01</td>\n",
       "      <td>Buy</td>\n",
       "      <td>48116.941406</td>\n",
       "    </tr>\n",
       "    <tr>\n",
       "      <th>21</th>\n",
       "      <td>2022-01-05</td>\n",
       "      <td>Sell</td>\n",
       "      <td>43569.003906</td>\n",
       "    </tr>\n",
       "    <tr>\n",
       "      <th>22</th>\n",
       "      <td>2023-01-14</td>\n",
       "      <td>Buy</td>\n",
       "      <td>20976.298828</td>\n",
       "    </tr>\n",
       "    <tr>\n",
       "      <th>23</th>\n",
       "      <td>2023-08-17</td>\n",
       "      <td>Sell</td>\n",
       "      <td>26664.550781</td>\n",
       "    </tr>\n",
       "  </tbody>\n",
       "</table>\n",
       "</div>"
      ],
      "text/plain": [
       "         Date Action         Price\n",
       "0  2015-06-30    Buy    263.071991\n",
       "1  2015-08-18   Sell    211.078995\n",
       "2  2015-10-14    Buy    251.988998\n",
       "3  2018-02-05   Sell   6955.270020\n",
       "4  2018-02-08    Buy   8265.589844\n",
       "5  2018-03-12   Sell   9205.120117\n",
       "6  2019-04-02    Buy   4879.877930\n",
       "7  2019-09-25   Sell   8486.993164\n",
       "8  2019-10-26    Buy   9244.972656\n",
       "9  2019-11-11   Sell   8757.788086\n",
       "10 2020-01-28    Buy   9358.589844\n",
       "11 2020-02-26   Sell   8820.522461\n",
       "12 2020-03-05    Buy   9078.762695\n",
       "13 2020-03-08   Sell   8108.116211\n",
       "14 2020-04-29    Buy   8801.038086\n",
       "15 2021-05-19   Sell  37002.441406\n",
       "16 2021-05-20    Buy  40782.738281\n",
       "17 2021-05-21   Sell  37304.691406\n",
       "18 2021-08-09    Buy  46365.402344\n",
       "19 2021-09-20   Sell  42843.800781\n",
       "20 2021-10-01    Buy  48116.941406\n",
       "21 2022-01-05   Sell  43569.003906\n",
       "22 2023-01-14    Buy  20976.298828\n",
       "23 2023-08-17   Sell  26664.550781"
      ]
     },
     "execution_count": 9,
     "metadata": {},
     "output_type": "execute_result"
    }
   ],
   "source": [
    "# Iterate through the historical data\n",
    "for i in range(len(crypto_data)):\n",
    "    current_date = crypto_data.index[i]\n",
    "    current_price = crypto_data['Close'][i]\n",
    "    sma_value = crypto_data['SMA'][i]\n",
    "\n",
    "    # Entry condition: Price crosses above SMA\n",
    "    if current_price > sma_value * (1 + breakout_threshold):\n",
    "        if not in_trade:\n",
    "            entry_price = current_price\n",
    "            stop_loss = entry_price * 0.95  # Setting a 5% stop-loss\n",
    "            trade_history = trade_history.append({'Date': current_date, 'Action': 'Buy', 'Price': entry_price}, ignore_index=True)\n",
    "            in_trade = True\n",
    "            entry_points.append((current_date, entry_price))\n",
    "\n",
    "    # Exit condition: Price hits stop-loss or a certain profit target (e.g., 10%)\n",
    "    elif in_trade and (current_price <= stop_loss or (current_price / entry_price) >= 1.10):\n",
    "        trade_history = trade_history.append({'Date': current_date, 'Action': 'Sell', 'Price': current_price}, ignore_index=True)\n",
    "        in_trade = False\n",
    "        exit_points.append((current_date, current_price))\n",
    "\n",
    "# Print the trade history\n",
    "trade_history"
   ]
  },
  {
   "cell_type": "code",
   "execution_count": 12,
   "id": "0937591b-9eee-453d-89c2-e1e6ec04f57f",
   "metadata": {},
   "outputs": [
    {
     "name": "stdout",
     "output_type": "stream",
     "text": [
      "Total Profit: 31544.10\n"
     ]
    }
   ],
   "source": [
    "# Calculate total profit\n",
    "total_profit = trade_history[trade_history['Action'] == 'Sell']['Price'].sum() - trade_history[trade_history['Action'] == 'Buy']['Price'].sum()\n",
    "print(f\"Total Profit: {total_profit:.2f}\")"
   ]
  },
  {
   "cell_type": "code",
   "execution_count": 14,
   "id": "f9635b79-d53a-426d-a0b7-a0397eda68b0",
   "metadata": {},
   "outputs": [
    {
     "data": {
      "image/png": "[encoded data removed]",
      "text/plain": [
       "<Figure size 864x432 with 1 Axes>"
      ]
     },
     "metadata": {
      "needs_background": "light"
     },
     "output_type": "display_data"
    }
   ],
   "source": [
    "# Create a price chart with entry and exit points\n",
    "plt.figure(figsize=(12, 6))\n",
    "plt.plot(crypto_data.index, crypto_data['Close'], label='Price', linewidth=1)\n",
    "plt.plot(crypto_data.index, crypto_data['SMA'], label='SMA ({}-day)'.format(sma_period), linestyle='--', color='orange', linewidth=1)\n",
    "\n",
    "# Plot entry points\n",
    "entry_dates, entry_prices = zip(*entry_points)\n",
    "plt.scatter(entry_dates, entry_prices, marker='^', color='green', label='Buy', s=100)\n",
    "\n",
    "# Plot exit points\n",
    "exit_dates, exit_prices = zip(*exit_points)\n",
    "plt.scatter(exit_dates, exit_prices, marker='v', color='red', label='Sell', s=100)\n",
    "\n",
    "plt.title(f'{crypto_symbol} Breakout Strategy')\n",
    "plt.xlabel('Date')\n",
    "plt.ylabel('Price')\n",
    "plt.legend()\n",
    "plt.grid(True)\n",
    "plt.show()"
   ]
  },
  {
   "cell_type": "code",
   "execution_count": null,
   "id": "c5bfde80-f3e8-47ab-a88d-19dbebb12eb6",
   "metadata": {},
   "outputs": [],
   "source": []
  }
 ],
 "metadata": {
  "kernelspec": {
   "display_name": "Python [conda env:RGNY] *",
   "language": "python",
   "name": "conda-env-RGNY-py"
  },
  "language_info": {
   "codemirror_mode": {
    "name": "ipython",
    "version": 3
   },
   "file_extension": ".py",
   "mimetype": "text/x-python",
   "name": "python",
   "nbconvert_exporter": "python",
   "pygments_lexer": "ipython3",
   "version": "3.7.11"
  }
 },
 "nbformat": 4,
 "nbformat_minor": 5
}
